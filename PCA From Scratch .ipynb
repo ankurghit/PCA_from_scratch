{
 "cells": [
  {
   "cell_type": "markdown",
   "id": "819fb61c",
   "metadata": {},
   "source": [
    "**OBJECTIVE** :\n",
    "* **UNDERSTANDING PRICIPAL COMPONENT ANALYSIS FROM SCRATCH** \n",
    "* **COMPARING RESULT WITH THE LIBRARY**"
   ]
  },
  {
   "cell_type": "code",
   "execution_count": 53,
   "id": "329b2ff7",
   "metadata": {},
   "outputs": [],
   "source": [
    "# IMPORTING THE LIBRARY \n",
    "import numpy as np\n",
    "import pandas as pd\n",
    "from sklearn.decomposition import PCA"
   ]
  },
  {
   "cell_type": "code",
   "execution_count": 54,
   "id": "eced6581",
   "metadata": {},
   "outputs": [
    {
     "data": {
      "text/html": [
       "<div>\n",
       "<style scoped>\n",
       "    .dataframe tbody tr th:only-of-type {\n",
       "        vertical-align: middle;\n",
       "    }\n",
       "\n",
       "    .dataframe tbody tr th {\n",
       "        vertical-align: top;\n",
       "    }\n",
       "\n",
       "    .dataframe thead th {\n",
       "        text-align: right;\n",
       "    }\n",
       "</style>\n",
       "<table border=\"1\" class=\"dataframe\">\n",
       "  <thead>\n",
       "    <tr style=\"text-align: right;\">\n",
       "      <th></th>\n",
       "      <th>x1</th>\n",
       "      <th>x2</th>\n",
       "    </tr>\n",
       "  </thead>\n",
       "  <tbody>\n",
       "    <tr>\n",
       "      <th>0</th>\n",
       "      <td>1</td>\n",
       "      <td>2</td>\n",
       "    </tr>\n",
       "    <tr>\n",
       "      <th>1</th>\n",
       "      <td>2</td>\n",
       "      <td>3</td>\n",
       "    </tr>\n",
       "    <tr>\n",
       "      <th>2</th>\n",
       "      <td>3</td>\n",
       "      <td>5</td>\n",
       "    </tr>\n",
       "    <tr>\n",
       "      <th>3</th>\n",
       "      <td>4</td>\n",
       "      <td>8</td>\n",
       "    </tr>\n",
       "    <tr>\n",
       "      <th>4</th>\n",
       "      <td>5</td>\n",
       "      <td>11</td>\n",
       "    </tr>\n",
       "  </tbody>\n",
       "</table>\n",
       "</div>"
      ],
      "text/plain": [
       "   x1  x2\n",
       "0   1   2\n",
       "1   2   3\n",
       "2   3   5\n",
       "3   4   8\n",
       "4   5  11"
      ]
     },
     "execution_count": 54,
     "metadata": {},
     "output_type": "execute_result"
    }
   ],
   "source": [
    "# Creating dataset and converting into datframe \n",
    "x1 = np.array([1,2,3,4,5])\n",
    "x2 = np.array([2,3,5,8,11])\n",
    "df = pd.DataFrame({'x1':x1, 'x2':x2})\n",
    "df"
   ]
  },
  {
   "cell_type": "code",
   "execution_count": 55,
   "id": "138b83a8",
   "metadata": {},
   "outputs": [
    {
     "data": {
      "text/plain": [
       "x1    3.0\n",
       "x2    5.8\n",
       "dtype: float64"
      ]
     },
     "execution_count": 55,
     "metadata": {},
     "output_type": "execute_result"
    }
   ],
   "source": [
    "df.mean() #calculating the mean of data "
   ]
  },
  {
   "cell_type": "code",
   "execution_count": 56,
   "id": "109a3465",
   "metadata": {},
   "outputs": [
    {
     "data": {
      "text/plain": [
       "x1     2.5\n",
       "x2    13.7\n",
       "dtype: float64"
      ]
     },
     "execution_count": 56,
     "metadata": {},
     "output_type": "execute_result"
    }
   ],
   "source": [
    "df.var()  #calculating the variance of data "
   ]
  },
  {
   "cell_type": "code",
   "execution_count": 57,
   "id": "0767b05f",
   "metadata": {},
   "outputs": [
    {
     "data": {
      "text/html": [
       "<div>\n",
       "<style scoped>\n",
       "    .dataframe tbody tr th:only-of-type {\n",
       "        vertical-align: middle;\n",
       "    }\n",
       "\n",
       "    .dataframe tbody tr th {\n",
       "        vertical-align: top;\n",
       "    }\n",
       "\n",
       "    .dataframe thead th {\n",
       "        text-align: right;\n",
       "    }\n",
       "</style>\n",
       "<table border=\"1\" class=\"dataframe\">\n",
       "  <thead>\n",
       "    <tr style=\"text-align: right;\">\n",
       "      <th></th>\n",
       "      <th>x1</th>\n",
       "      <th>x2</th>\n",
       "    </tr>\n",
       "  </thead>\n",
       "  <tbody>\n",
       "    <tr>\n",
       "      <th>x1</th>\n",
       "      <td>2.50</td>\n",
       "      <td>5.75</td>\n",
       "    </tr>\n",
       "    <tr>\n",
       "      <th>x2</th>\n",
       "      <td>5.75</td>\n",
       "      <td>13.70</td>\n",
       "    </tr>\n",
       "  </tbody>\n",
       "</table>\n",
       "</div>"
      ],
      "text/plain": [
       "      x1     x2\n",
       "x1  2.50   5.75\n",
       "x2  5.75  13.70"
      ]
     },
     "execution_count": 57,
     "metadata": {},
     "output_type": "execute_result"
    }
   ],
   "source": [
    "df.cov()  # calculating the covariance data "
   ]
  },
  {
   "cell_type": "code",
   "execution_count": 58,
   "id": "3e9b6c20",
   "metadata": {},
   "outputs": [],
   "source": [
    "eval,evecs=np.linalg.eig(df.cov(ddof=1)) # eigen values and vector extracting from cov "
   ]
  },
  {
   "cell_type": "code",
   "execution_count": 59,
   "id": "ad40df96",
   "metadata": {},
   "outputs": [
    {
     "data": {
      "text/plain": [
       "array([ 0.07363719, 16.12636281])"
      ]
     },
     "execution_count": 59,
     "metadata": {},
     "output_type": "execute_result"
    }
   ],
   "source": [
    "eval  #eigen values "
   ]
  },
  {
   "cell_type": "code",
   "execution_count": 60,
   "id": "12d4f029",
   "metadata": {},
   "outputs": [
    {
     "data": {
      "text/plain": [
       "array([[-0.92133078, -0.38877961],\n",
       "       [ 0.38877961, -0.92133078]])"
      ]
     },
     "execution_count": 60,
     "metadata": {},
     "output_type": "execute_result"
    }
   ],
   "source": [
    "evecs #eigen vectors "
   ]
  },
  {
   "cell_type": "code",
   "execution_count": 61,
   "id": "baba3ae9",
   "metadata": {},
   "outputs": [],
   "source": [
    "e1=evecs[:,0]  #extracting eigen vector by indexing"
   ]
  },
  {
   "cell_type": "code",
   "execution_count": 62,
   "id": "5c1e78a5",
   "metadata": {},
   "outputs": [],
   "source": [
    "e2=evecs[:,1]  #extracting eigen vector by indexing"
   ]
  },
  {
   "cell_type": "code",
   "execution_count": 63,
   "id": "945010b4",
   "metadata": {},
   "outputs": [
    {
     "data": {
      "text/plain": [
       "0.0"
      ]
     },
     "execution_count": 63,
     "metadata": {},
     "output_type": "execute_result"
    }
   ],
   "source": [
    "evecs[:,0].dot(evecs[:,1])  #dot product "
   ]
  },
  {
   "cell_type": "code",
   "execution_count": 64,
   "id": "3b9749a1",
   "metadata": {},
   "outputs": [
    {
     "data": {
      "text/plain": [
       "0.0"
      ]
     },
     "execution_count": 64,
     "metadata": {},
     "output_type": "execute_result"
    }
   ],
   "source": [
    "(e1).dot(e2) # other way of dot product these proof they are orthogonal"
   ]
  },
  {
   "cell_type": "code",
   "execution_count": 65,
   "id": "08c952ef",
   "metadata": {},
   "outputs": [
    {
     "data": {
      "text/plain": [
       "array([[-0.92133078,  0.38877961],\n",
       "       [-0.38877961, -0.92133078]])"
      ]
     },
     "execution_count": 65,
     "metadata": {},
     "output_type": "execute_result"
    }
   ],
   "source": [
    "np.linalg.inv(evecs) # inverse of eigen vectors"
   ]
  },
  {
   "cell_type": "code",
   "execution_count": 66,
   "id": "1a9ae086",
   "metadata": {},
   "outputs": [
    {
     "data": {
      "text/html": [
       "<div>\n",
       "<style scoped>\n",
       "    .dataframe tbody tr th:only-of-type {\n",
       "        vertical-align: middle;\n",
       "    }\n",
       "\n",
       "    .dataframe tbody tr th {\n",
       "        vertical-align: top;\n",
       "    }\n",
       "\n",
       "    .dataframe thead th {\n",
       "        text-align: right;\n",
       "    }\n",
       "</style>\n",
       "<table border=\"1\" class=\"dataframe\">\n",
       "  <thead>\n",
       "    <tr style=\"text-align: right;\">\n",
       "      <th></th>\n",
       "      <th>x1</th>\n",
       "      <th>x2</th>\n",
       "    </tr>\n",
       "  </thead>\n",
       "  <tbody>\n",
       "    <tr>\n",
       "      <th>0</th>\n",
       "      <td>1</td>\n",
       "      <td>2</td>\n",
       "    </tr>\n",
       "    <tr>\n",
       "      <th>1</th>\n",
       "      <td>2</td>\n",
       "      <td>3</td>\n",
       "    </tr>\n",
       "    <tr>\n",
       "      <th>2</th>\n",
       "      <td>3</td>\n",
       "      <td>5</td>\n",
       "    </tr>\n",
       "    <tr>\n",
       "      <th>3</th>\n",
       "      <td>4</td>\n",
       "      <td>8</td>\n",
       "    </tr>\n",
       "    <tr>\n",
       "      <th>4</th>\n",
       "      <td>5</td>\n",
       "      <td>11</td>\n",
       "    </tr>\n",
       "  </tbody>\n",
       "</table>\n",
       "</div>"
      ],
      "text/plain": [
       "   x1  x2\n",
       "0   1   2\n",
       "1   2   3\n",
       "2   3   5\n",
       "3   4   8\n",
       "4   5  11"
      ]
     },
     "execution_count": 66,
     "metadata": {},
     "output_type": "execute_result"
    }
   ],
   "source": [
    "df "
   ]
  },
  {
   "cell_type": "code",
   "execution_count": 67,
   "id": "3ffa5a02",
   "metadata": {},
   "outputs": [
    {
     "data": {
      "text/plain": [
       "x1    3.0\n",
       "x2    5.8\n",
       "dtype: float64"
      ]
     },
     "execution_count": 67,
     "metadata": {},
     "output_type": "execute_result"
    }
   ],
   "source": [
    "df.mean() #mean value of column x1,X2"
   ]
  },
  {
   "cell_type": "code",
   "execution_count": 68,
   "id": "357e45d8",
   "metadata": {},
   "outputs": [
    {
     "data": {
      "text/html": [
       "<div>\n",
       "<style scoped>\n",
       "    .dataframe tbody tr th:only-of-type {\n",
       "        vertical-align: middle;\n",
       "    }\n",
       "\n",
       "    .dataframe tbody tr th {\n",
       "        vertical-align: top;\n",
       "    }\n",
       "\n",
       "    .dataframe thead th {\n",
       "        text-align: right;\n",
       "    }\n",
       "</style>\n",
       "<table border=\"1\" class=\"dataframe\">\n",
       "  <thead>\n",
       "    <tr style=\"text-align: right;\">\n",
       "      <th></th>\n",
       "      <th>x1</th>\n",
       "      <th>x2</th>\n",
       "    </tr>\n",
       "  </thead>\n",
       "  <tbody>\n",
       "    <tr>\n",
       "      <th>0</th>\n",
       "      <td>-2.0</td>\n",
       "      <td>-3.8</td>\n",
       "    </tr>\n",
       "    <tr>\n",
       "      <th>1</th>\n",
       "      <td>-1.0</td>\n",
       "      <td>-2.8</td>\n",
       "    </tr>\n",
       "    <tr>\n",
       "      <th>2</th>\n",
       "      <td>0.0</td>\n",
       "      <td>-0.8</td>\n",
       "    </tr>\n",
       "    <tr>\n",
       "      <th>3</th>\n",
       "      <td>1.0</td>\n",
       "      <td>2.2</td>\n",
       "    </tr>\n",
       "    <tr>\n",
       "      <th>4</th>\n",
       "      <td>2.0</td>\n",
       "      <td>5.2</td>\n",
       "    </tr>\n",
       "  </tbody>\n",
       "</table>\n",
       "</div>"
      ],
      "text/plain": [
       "    x1   x2\n",
       "0 -2.0 -3.8\n",
       "1 -1.0 -2.8\n",
       "2  0.0 -0.8\n",
       "3  1.0  2.2\n",
       "4  2.0  5.2"
      ]
     },
     "execution_count": 68,
     "metadata": {},
     "output_type": "execute_result"
    }
   ],
   "source": [
    "df_mnc=df-df.mean() #subtracting xi- x(mean), yi-y(mean)\n",
    "df_mnc"
   ]
  },
  {
   "cell_type": "code",
   "execution_count": 69,
   "id": "ca09d7a6",
   "metadata": {},
   "outputs": [
    {
     "data": {
      "text/plain": [
       "matrix([[-2. , -1. ,  0. ,  1. ,  2. ],\n",
       "        [-3.8, -2.8, -0.8,  2.2,  5.2]])"
      ]
     },
     "execution_count": 69,
     "metadata": {},
     "output_type": "execute_result"
    }
   ],
   "source": [
    "data=np.mat(df_mnc).T  #Converting mean data into matrix and transposing it \n",
    "data"
   ]
  },
  {
   "cell_type": "code",
   "execution_count": 70,
   "id": "84ee7126",
   "metadata": {},
   "outputs": [
    {
     "data": {
      "text/plain": [
       "array([[-0.92133078,  0.38877961],\n",
       "       [-0.38877961, -0.92133078]])"
      ]
     },
     "execution_count": 70,
     "metadata": {},
     "output_type": "execute_result"
    }
   ],
   "source": [
    "inv_eig_val=np.linalg.inv(evecs) #using linear algebra inversing the eigen vectors\n",
    "inv_eig_val"
   ]
  },
  {
   "cell_type": "code",
   "execution_count": 71,
   "id": "b3479c6f",
   "metadata": {},
   "outputs": [
    {
     "data": {
      "text/plain": [
       "matrix([[ 0.36529905, -0.16725212, -0.31102369, -0.06601564,  0.1789924 ],\n",
       "        [ 4.2786162 ,  2.96850581,  0.73706463, -2.41570734, -5.5684793 ]])"
      ]
     },
     "execution_count": 71,
     "metadata": {},
     "output_type": "execute_result"
    }
   ],
   "source": [
    "proj_mat=np.linalg.inv(evecs)@data  # projecting eigen vectors with data \n",
    "proj_mat"
   ]
  },
  {
   "cell_type": "code",
   "execution_count": 72,
   "id": "26471761",
   "metadata": {},
   "outputs": [
    {
     "data": {
      "text/plain": [
       "matrix([[ 0.36529905,  4.2786162 ],\n",
       "        [-0.16725212,  2.96850581],\n",
       "        [-0.31102369,  0.73706463],\n",
       "        [-0.06601564, -2.41570734],\n",
       "        [ 0.1789924 , -5.5684793 ]])"
      ]
     },
     "execution_count": 72,
     "metadata": {},
     "output_type": "execute_result"
    }
   ],
   "source": [
    "proj_mat.T #transposing the projected pca "
   ]
  },
  {
   "cell_type": "code",
   "execution_count": 73,
   "id": "135cba80",
   "metadata": {},
   "outputs": [
    {
     "data": {
      "text/html": [
       "<div>\n",
       "<style scoped>\n",
       "    .dataframe tbody tr th:only-of-type {\n",
       "        vertical-align: middle;\n",
       "    }\n",
       "\n",
       "    .dataframe tbody tr th {\n",
       "        vertical-align: top;\n",
       "    }\n",
       "\n",
       "    .dataframe thead th {\n",
       "        text-align: right;\n",
       "    }\n",
       "</style>\n",
       "<table border=\"1\" class=\"dataframe\">\n",
       "  <thead>\n",
       "    <tr style=\"text-align: right;\">\n",
       "      <th></th>\n",
       "      <th>pca1</th>\n",
       "      <th>pca2</th>\n",
       "    </tr>\n",
       "  </thead>\n",
       "  <tbody>\n",
       "    <tr>\n",
       "      <th>0</th>\n",
       "      <td>0.365299</td>\n",
       "      <td>4.278616</td>\n",
       "    </tr>\n",
       "    <tr>\n",
       "      <th>1</th>\n",
       "      <td>-0.167252</td>\n",
       "      <td>2.968506</td>\n",
       "    </tr>\n",
       "    <tr>\n",
       "      <th>2</th>\n",
       "      <td>-0.311024</td>\n",
       "      <td>0.737065</td>\n",
       "    </tr>\n",
       "    <tr>\n",
       "      <th>3</th>\n",
       "      <td>-0.066016</td>\n",
       "      <td>-2.415707</td>\n",
       "    </tr>\n",
       "    <tr>\n",
       "      <th>4</th>\n",
       "      <td>0.178992</td>\n",
       "      <td>-5.568479</td>\n",
       "    </tr>\n",
       "  </tbody>\n",
       "</table>\n",
       "</div>"
      ],
      "text/plain": [
       "       pca1      pca2\n",
       "0  0.365299  4.278616\n",
       "1 -0.167252  2.968506\n",
       "2 -0.311024  0.737065\n",
       "3 -0.066016 -2.415707\n",
       "4  0.178992 -5.568479"
      ]
     },
     "execution_count": 73,
     "metadata": {},
     "output_type": "execute_result"
    }
   ],
   "source": [
    "# converting to datafarame\n",
    "pca=pd.DataFrame(proj_mat.T,columns=[\"pca1\",\"pca2\"])\n",
    "pca"
   ]
  },
  {
   "cell_type": "code",
   "execution_count": 74,
   "id": "030186a7",
   "metadata": {},
   "outputs": [
    {
     "data": {
      "text/plain": [
       "(16.2, 16.2)"
      ]
     },
     "execution_count": 74,
     "metadata": {},
     "output_type": "execute_result"
    }
   ],
   "source": [
    "# variation in data remain same \n",
    "sum(df.var(ddof=1)), sum(pca.var(ddof=1))"
   ]
  },
  {
   "cell_type": "code",
   "execution_count": 75,
   "id": "bfe703de",
   "metadata": {},
   "outputs": [
    {
     "data": {
      "text/plain": [
       "x1     2.5\n",
       "x2    13.7\n",
       "dtype: float64"
      ]
     },
     "execution_count": 75,
     "metadata": {},
     "output_type": "execute_result"
    }
   ],
   "source": [
    "df.var(ddof=1)   #variance before pca"
   ]
  },
  {
   "cell_type": "code",
   "execution_count": 76,
   "id": "84d46bd3",
   "metadata": {},
   "outputs": [
    {
     "data": {
      "text/plain": [
       "pca1     0.073637\n",
       "pca2    16.126363\n",
       "dtype: float64"
      ]
     },
     "execution_count": 76,
     "metadata": {},
     "output_type": "execute_result"
    }
   ],
   "source": [
    "pca.var(ddof=1)  #variance after pca"
   ]
  },
  {
   "cell_type": "markdown",
   "id": "2830e5d3",
   "metadata": {},
   "source": [
    "# PCA using library "
   ]
  },
  {
   "cell_type": "code",
   "execution_count": 79,
   "id": "f752f949",
   "metadata": {},
   "outputs": [
    {
     "name": "stdout",
     "output_type": "stream",
     "text": [
      "Principal Components:\n",
      "        PC1       PC2\n",
      "0 -4.278616  0.365299\n",
      "1 -2.968506 -0.167252\n",
      "2 -0.737065 -0.311024\n",
      "3  2.415707 -0.066016\n",
      "4  5.568479  0.178992\n",
      "\n",
      "Explained Variance Ratio:\n",
      "[0.99545449 0.00454551]\n"
     ]
    }
   ],
   "source": [
    "# Create the dataframe\n",
    "x1 = np.array([1, 2, 3, 4, 5])\n",
    "x2 = np.array([2, 3, 5, 8, 11])\n",
    "df = pd.DataFrame({'x1': x1, 'x2': x2})\n",
    "\n",
    "# Perform PCA\n",
    "pca = PCA(n_components=2)  # Specify the number of components (in this case, 2)\n",
    "principal_components = pca.fit_transform(df)\n",
    "\n",
    "# Create a new dataframe with the principal components\n",
    "principal_df = pd.DataFrame(data=principal_components, columns=['PC1', 'PC2'])\n",
    "\n",
    "# Explained variance ratio\n",
    "explained_variance_ratio = pca.explained_variance_ratio_\n",
    "\n",
    "# Print the results\n",
    "print(\"Principal Components:\")\n",
    "print(principal_df)\n",
    "print(\"\\nExplained Variance Ratio:\")\n",
    "print(explained_variance_ratio)"
   ]
  },
  {
   "cell_type": "markdown",
   "id": "f8813cda",
   "metadata": {},
   "source": [
    "LEARNINGS:\n",
    "\n",
    "* Dimensionality Reduction: PCA helps to reduce the number of variables or features in a dataset while retaining most of the important information. By transforming the data into a lower-dimensional space, PCA can simplify the analysis and visualization of high-dimensional data, especially when dealing with datasets with a large number of variables.\n",
    "\n",
    "\n",
    "* Feature Extraction: PCA can extract new features, called principal components, that are linear combinations of the original variables. These principal components are chosen in such a way that they capture the maximum amount of variation present in the data. These extracted features can be used as input for subsequent analysis or modeling tasks.\n",
    "\n",
    "\n",
    "* Noise Reduction: PCA can help to remove noise or irrelevant information from the data by identifying and eliminating the components with low variances. By focusing on the principal components that explain the most variation, PCA can enhance the signal-to-noise ratio and improve the overall quality of the data.\n",
    "\n",
    "\n",
    "* Model Efficiency: By reducing the dimensionality of the data, PCA can improve the efficiency and performance of machine learning models. It can reduce overfitting by removing redundant or noisy features, leading to more accurate and robust models."
   ]
  },
  {
   "cell_type": "code",
   "execution_count": null,
   "id": "c50910e9",
   "metadata": {},
   "outputs": [],
   "source": []
  }
 ],
 "metadata": {
  "kernelspec": {
   "display_name": "Python 3 (ipykernel)",
   "language": "python",
   "name": "python3"
  },
  "language_info": {
   "codemirror_mode": {
    "name": "ipython",
    "version": 3
   },
   "file_extension": ".py",
   "mimetype": "text/x-python",
   "name": "python",
   "nbconvert_exporter": "python",
   "pygments_lexer": "ipython3",
   "version": "3.9.13"
  }
 },
 "nbformat": 4,
 "nbformat_minor": 5
}
